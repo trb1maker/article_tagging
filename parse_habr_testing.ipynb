{
 "cells": [
  {
   "cell_type": "code",
   "execution_count": 1,
   "metadata": {},
   "outputs": [],
   "source": [
    "from habr_parser import parse_article"
   ]
  },
  {
   "cell_type": "code",
   "execution_count": null,
   "metadata": {},
   "outputs": [],
   "source": [
    "article = parse_article(1)"
   ]
  },
  {
   "cell_type": "code",
   "execution_count": 6,
   "metadata": {},
   "outputs": [
    {
     "name": "stdout",
     "output_type": "stream",
     "text": [
      "Самая первая статья на Хабре на тему Wiki-FAQ для Хабрахабра опубликована 13.07.2006\n",
      "\n",
      "Привет!\n",
      "\n",
      "Для сборника ответов на Часто Задаваемые Вопросы мы решили использовать идею wiki, поскольку, как нам кажется, нет смысла писать одному конкретному человеку FAQ для такого сайта, как Хабрахабр. Все равно останутся люди, у которых останутся вопросы.\n",
      "Посему, обращаюсь к читателям группы со следующим вопросом: какой wiki-движок из доступных, по-вашему, идеально подходит для составления «коллективного» ЧАВО по сайту?\n",
      "\n",
      "\n",
      "['хабрахаб', 'wiki', 'faq', 'чаво', 'механизм', 'движок', 'habr']\n"
     ]
    }
   ],
   "source": [
    "print(f'Самая первая статья на Хабре на тему {article.header} опубликована {article.public_datetime.strftime(\"%d.%m.%Y\")}')\n",
    "\n",
    "print(f'\\n{article.text}\\n')\n",
    "\n",
    "print(article.tags)"
   ]
  }
 ],
 "metadata": {
  "kernelspec": {
   "display_name": ".venv",
   "language": "python",
   "name": "python3"
  },
  "language_info": {
   "codemirror_mode": {
    "name": "ipython",
    "version": 3
   },
   "file_extension": ".py",
   "mimetype": "text/x-python",
   "name": "python",
   "nbconvert_exporter": "python",
   "pygments_lexer": "ipython3",
   "version": "3.10.8"
  },
  "orig_nbformat": 4,
  "vscode": {
   "interpreter": {
    "hash": "a0e65fd777dbdb576be7c83b03b06642daaee10017bb31654dd0b01da7e0c527"
   }
  }
 },
 "nbformat": 4,
 "nbformat_minor": 2
}
