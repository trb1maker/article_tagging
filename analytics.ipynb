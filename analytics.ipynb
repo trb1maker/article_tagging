{
 "cells": [
  {
   "cell_type": "code",
   "execution_count": 29,
   "metadata": {},
   "outputs": [],
   "source": [
    "import pandas as pd\n",
    "import pandahouse\n",
    "\n",
    "import seaborn as sns\n",
    "\n",
    "from utils.tags import tag_elements"
   ]
  },
  {
   "cell_type": "markdown",
   "metadata": {},
   "source": [
    "__Загрузка датафрейма__"
   ]
  },
  {
   "cell_type": "code",
   "execution_count": 2,
   "metadata": {},
   "outputs": [],
   "source": [
    "# pandahouse не поддерживает тип Array, поэтому в pandas необходимо\n",
    "# будет выполнить некоторые преобразования.\n",
    "\n",
    "SQL = '''\n",
    "\n",
    "SELECT article_id,\n",
    "       date,\n",
    "       rate,\n",
    "       views,\n",
    "       bookmarks,\n",
    "       comments,\n",
    "       header,\n",
    "       toString(tags) AS tags\n",
    "\n",
    "FROM articles\n",
    "\n",
    "'''\n",
    "\n",
    "\n",
    "article_data = pandahouse.read_clickhouse(query=SQL)"
   ]
  },
  {
   "cell_type": "markdown",
   "metadata": {},
   "source": [
    "__Предобработка данных__\n",
    "\n",
    "_Предобработка тэгов_"
   ]
  },
  {
   "cell_type": "code",
   "execution_count": 38,
   "metadata": {},
   "outputs": [],
   "source": [
    "# Теги загружены в виде строки вида ['tag_1', 'tag_1', 'tag_1'],\n",
    "# привожу его к массиву.\n",
    "\n",
    "article_data.tags = [tag for tag in article_data.tags.str.replace(\n",
    "                     pat=\"[\\[\\]']\", repl='', regex=True).str.split(',') if tag != '']\n",
    "\n",
    "# Раскрываю датафрейм по колонке tags. Применяю к каждому отдельному тегу tag_elements.\n",
    "\n",
    "article_data = article_data.explode('tags')\n",
    "article_data.tags = article_data.tags.apply(tag_elements)"
   ]
  },
  {
   "cell_type": "code",
   "execution_count": 39,
   "metadata": {},
   "outputs": [],
   "source": [
    "# Выбираю тэги и подсчитываю их встречаемость.\n",
    "\n",
    "tags = article_data.groupby('tags', as_index=False) \\\n",
    "                   .agg({'comments': 'count'}) \\\n",
    "                   .rename(columns={'tags': 'tag', 'comments': 'used'}) \\\n",
    "                   .sort_values(['used', 'tag'])\n",
    "\n",
    "min_tag_used = 100\n",
    "max_tag_used = 10_000\n",
    "\n",
    "# Удаляю редко используемые \"мусорные\" тэги\n",
    "tags.drop(tags.query('used <= @min_tag_used').index, inplace=True)\n",
    "tags.drop(tags.query('used >= @max_tag_used').index, inplace=True)\n",
    "\n",
    "# Удаляю пустые тэги\n",
    "tags.drop(tags.query('tag == \"\"').index, inplace=True)\n",
    "\n",
    "# Определяю язык тэга и удаляю теги на двух языках\n",
    "tags.drop(tags[(tags.tag.str.contains('^[а-я]+$', regex=True) == False) & (tags.tag.str.contains('^[a-z]+$', regex=True) == False)].index, inplace=True)"
   ]
  },
  {
   "cell_type": "code",
   "execution_count": 40,
   "metadata": {},
   "outputs": [],
   "source": [
    "# Сохраняю теги для их отбора\n",
    "tags.to_csv('./datasets/tags.csv', index=False)"
   ]
  },
  {
   "cell_type": "code",
   "execution_count": null,
   "metadata": {},
   "outputs": [],
   "source": []
  },
  {
   "cell_type": "code",
   "execution_count": 6,
   "metadata": {},
   "outputs": [],
   "source": [
    "# Загружаю отобранные теги\n",
    "tags = pd.read_csv('./datasets/tags.csv')"
   ]
  },
  {
   "cell_type": "code",
   "execution_count": 7,
   "metadata": {},
   "outputs": [],
   "source": [
    "# Совмещаю данные по тэгам с исходным датафреймом.\n",
    "\n",
    "article_data = article_data.merge(tags, left_on='tags', right_on='tag', how='left') \\\n",
    "                           .drop(columns='tags') \\\n",
    "                           .dropna()"
   ]
  }
 ],
 "metadata": {
  "kernelspec": {
   "display_name": ".venv",
   "language": "python",
   "name": "python3"
  },
  "language_info": {
   "codemirror_mode": {
    "name": "ipython",
    "version": 3
   },
   "file_extension": ".py",
   "mimetype": "text/x-python",
   "name": "python",
   "nbconvert_exporter": "python",
   "pygments_lexer": "ipython3",
   "version": "3.10.8"
  },
  "orig_nbformat": 4,
  "vscode": {
   "interpreter": {
    "hash": "a0e65fd777dbdb576be7c83b03b06642daaee10017bb31654dd0b01da7e0c527"
   }
  }
 },
 "nbformat": 4,
 "nbformat_minor": 2
}
