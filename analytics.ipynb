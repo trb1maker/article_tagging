{
 "cells": [
  {
   "cell_type": "code",
   "execution_count": 1,
   "metadata": {},
   "outputs": [],
   "source": [
    "import pandas as pd\n",
    "import seaborn as sns\n",
    "\n",
    "from utils.tags import tag_elements"
   ]
  },
  {
   "cell_type": "markdown",
   "metadata": {},
   "source": [
    "__Загрузка датафрейма__\n",
    "\n",
    "Данные можно получить не из локального файла, а по ссылке:\n",
    "\n",
    "https://drive.google.com/uc?id=1_osI1ZMtR3chrKtwRfwlNyrr5VP0OIT0"
   ]
  },
  {
   "cell_type": "code",
   "execution_count": 2,
   "metadata": {},
   "outputs": [],
   "source": [
    "article_data = pd.read_csv('./datasets/article_about_data.gz',\n",
    "                           compression='gzip',\n",
    "                           parse_dates=['datetime'],\n",
    "                           index_col='id')"
   ]
  },
  {
   "cell_type": "markdown",
   "metadata": {},
   "source": [
    "__Предобработка данных__\n",
    "\n",
    "_Предобработка тэгов_"
   ]
  },
  {
   "cell_type": "code",
   "execution_count": 3,
   "metadata": {},
   "outputs": [],
   "source": [
    "# Теги загружены в виде строки вида ['tag_1', 'tag_1', 'tag_1'],\n",
    "# привожу его к массиву.\n",
    "\n",
    "article_data.tags = [tag for tag in article_data.tags.str.replace(\n",
    "                     pat=\"[\\[\\]']\", repl='', regex=True).str.split(',') if tag != '']\n",
    "\n",
    "# Раскрываю датафрейм по колонке tags. Применяю к каждому отдельному тегу tag_elements.\n",
    "\n",
    "article_data = article_data.explode('tags')\n",
    "article_data.tags = article_data.tags.apply(tag_elements)"
   ]
  },
  {
   "cell_type": "code",
   "execution_count": null,
   "metadata": {},
   "outputs": [],
   "source": [
    "# Выбираю тэги и подсчитываю их встречаемость.\n",
    "\n",
    "tags = article_data.groupby('tags', as_index=False) \\\n",
    "                   .agg({'comments': 'count'}) \\\n",
    "                   .rename(columns={'tags': 'tag', 'comments': 'used'}) \\\n",
    "                   .sort_values(['used', 'tag'])\n",
    "\n",
    "min_tag_used = 100\n",
    "max_tag_used = 10_000\n",
    "\n",
    "# Удаляю редко используемые \"мусорные\" тэги\n",
    "tags.drop(tags.query('used <= @min_tag_used').index, inplace=True)\n",
    "tags.drop(tags.query('used >= @max_tag_used').index, inplace=True)\n",
    "\n",
    "# Удаляю пустые тэги\n",
    "tags.drop(tags.query('tag == \"\"').index, inplace=True)\n",
    "\n",
    "# Определяю язык тэга и удаляю теги на двух языках\n",
    "tags.drop(tags[(tags.tag.str.contains('^[а-я]+$', regex=True) == False) & (tags.tag.str.contains('^[a-z]+$', regex=True) == False)].index, inplace=True)"
   ]
  },
  {
   "cell_type": "code",
   "execution_count": null,
   "metadata": {},
   "outputs": [],
   "source": []
  },
  {
   "cell_type": "code",
   "execution_count": null,
   "metadata": {},
   "outputs": [],
   "source": [
    "# Совмещаю данные по тэгам с исходным датафреймом.\n",
    "\n",
    "article_data = article_data.merge(tags, left_on='tags', right_on='tag', how='left') \\\n",
    "                           .drop(columns='tags') \\\n",
    "                           .dropna()"
   ]
  },
  {
   "cell_type": "markdown",
   "metadata": {},
   "source": [
    "__Это на потом, может быть использую.__"
   ]
  },
  {
   "cell_type": "code",
   "execution_count": null,
   "metadata": {},
   "outputs": [],
   "source": [
    "# 'https://drive.google.com/uc?id=1YjYmulVuJPH0IP770enNPWo9WPHdf1U0'\n",
    "\n",
    "# article_text = pd.read_csv('./datasets/article_text_data.gz',\n",
    "#                            compression='gzip',\n",
    "#                            index_col='id')\n"
   ]
  }
 ],
 "metadata": {
  "kernelspec": {
   "display_name": ".venv",
   "language": "python",
   "name": "python3"
  },
  "language_info": {
   "codemirror_mode": {
    "name": "ipython",
    "version": 3
   },
   "file_extension": ".py",
   "mimetype": "text/x-python",
   "name": "python",
   "nbconvert_exporter": "python",
   "pygments_lexer": "ipython3",
   "version": "3.10.8"
  },
  "orig_nbformat": 4,
  "vscode": {
   "interpreter": {
    "hash": "a0e65fd777dbdb576be7c83b03b06642daaee10017bb31654dd0b01da7e0c527"
   }
  }
 },
 "nbformat": 4,
 "nbformat_minor": 2
}
